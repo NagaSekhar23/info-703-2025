{
 "cells": [
  {
   "cell_type": "markdown",
   "id": "87b84ccb",
   "metadata": {},
   "source": [
    "## Data Filtering with `data_filtering.py`\n",
    "\n",
    "This code snippet demonstrates how to call the `filter_and_save` function from the `data_filtering.py` module to process and filter your PharmAlchemy datasets."
   ]
  },
  {
   "cell_type": "code",
   "execution_count": null,
   "id": "971c6ee0",
   "metadata": {},
   "outputs": [],
   "source": [
    "import pandas as pd\n",
    "from data_filtering import filter_and_save\n",
    "\n",
    "r2d_path           = input(\"Path to R2D_FINAL.csv: \")\n",
    "r2g_validated_path = input(\"Path to DrugBank_R2G_RomanValidated.csv: \")\n",
    "d2g_path           = input(\"Path to D2G_FINAL.csv: \")\n",
    "g2g_path           = input(\"Path to G2G_FINAL.csv: \")\n",
    "output_dir         = input(\"Directory for filtered outputs: \")\n",
    "\n",
    "filter_and_save(\n",
    "    r2d_path,\n",
    "    r2g_validated_path,\n",
    "    d2g_path,\n",
    "    g2g_path,\n",
    "    output_dir\n",
    ")"
   ]
  },
  {
   "cell_type": "markdown",
   "id": "ecad8f3d",
   "metadata": {},
   "source": [
    "## Triplets Builder \n",
    "\n",
    "This code snippet demonstrates how to use the `triplets_builder.py` module to generate RDF‐style triplets from your filtered datasets.\n"
   ]
  },
  {
   "cell_type": "code",
   "execution_count": null,
   "id": "f855496f",
   "metadata": {},
   "outputs": [],
   "source": [
    "from triplets_builder import build_triplets\n",
    "\n",
    "r2g_csv    = input(\"Path to R2G_validated.csv: \")\n",
    "r2d_csv    = input(\"Path to R2D_filtered.csv: \")\n",
    "d2g_csv    = input(\"Path to D2G_filtered.csv: \")\n",
    "g2g_csv    = input(\"Path to G2G_filtered.csv: \")\n",
    "output_dir = input(\"Directory where triplets will be saved: \")\n",
    "\n",
    "all_triplets, unique_entities, unique_predicates = build_triplets(\n",
    "    r2g_csv,\n",
    "    r2d_csv,\n",
    "    d2g_csv,\n",
    "    g2g_csv,\n",
    "    output_dir\n",
    ")"
   ]
  },
  {
   "cell_type": "markdown",
   "id": "272b9a7d",
   "metadata": {},
   "source": [
    "## Neo4j Triplets Upload \n",
    "\n",
    "This section shows how to use the `neo4j_upload.py` module to clear your Neo4j graph and upload a new set of triplets from a CSV file.\n",
    "\n"
   ]
  },
  {
   "cell_type": "code",
   "execution_count": null,
   "id": "39f27472",
   "metadata": {},
   "outputs": [],
   "source": [
    "import pandas as pd\n",
    "import getpass\n",
    "from neo4j_upload import upload_to_neo4j\n",
    "\n",
    "csv_path = input(\"Enter path to triplets CSV file: \")\n",
    "triplets_df = pd.read_csv(csv_path)\n",
    "\n",
    "uri      = input(\"Enter Neo4j URI (e.g., neo4j+s://<host>): \")\n",
    "username = input(\"Enter Neo4j username: \")\n",
    "password = getpass.getpass(\"Enter Neo4j password: \")"
   ]
  },
  {
   "cell_type": "code",
   "execution_count": null,
   "id": "bbc5e4e0",
   "metadata": {},
   "outputs": [],
   "source": [
    "upload_to_neo4j(triplets_df, uri, username, password)"
   ]
  },
  {
   "cell_type": "markdown",
   "id": "4234d4c6",
   "metadata": {},
   "source": [
    "## GUI- NEO4J Graph Explorer\n",
    "\n",
    "This line of code will launch the `GUI_neo4j_graph_explorer.py` script, which will prompt you for your filtered CSV paths, Neo4j credentials, and Groq API details before opening a Gradio UI."
   ]
  },
  {
   "cell_type": "code",
   "execution_count": null,
   "id": "72547789",
   "metadata": {},
   "outputs": [],
   "source": [
    "# This will prompt you for:\n",
    "#  • paths to R2G_validated.csv, R2D_filtered.csv, D2G_filtered.csv, G2G_filtered.csv\n",
    "#  • your Neo4j URI, username, and password\n",
    "#  • your Groq API key and model name\n",
    "# Then it will launch the Gradio interface.\n",
    "%run GUI_neo4j_graph_explorer.py"
   ]
  },
  {
   "cell_type": "markdown",
   "id": "6231133c",
   "metadata": {},
   "source": [
    "# Knowledge Graph Embedding Training\n",
    "\n",
    "This notebook shows how to call the `train_models.py` module to train and evaluate ComplEx, TransE, and RotatE embeddings on your `all_triplets.csv` dataset.\n"
   ]
  },
  {
   "cell_type": "code",
   "execution_count": null,
   "id": "7b61038a",
   "metadata": {},
   "outputs": [],
   "source": [
    "from train_models import train_complex, train_transe, train_rotate"
   ]
  },
  {
   "cell_type": "code",
   "execution_count": null,
   "id": "e6d2ac48",
   "metadata": {},
   "outputs": [],
   "source": [
    "## Train ComplEx model\n",
    "print(\"Training ComplEx...\")\n",
    "metrics_ce = train_complex()\n",
    "print(\"ComplEx metrics:\", metrics_ce)\n",
    "\n",
    "#Train TransE model\n",
    "print(\"Training TransE...\")\n",
    "metrics_tr = train_transe()\n",
    "print(\"TransE metrics:\", metrics_tr)\n",
    "\n",
    "#Train RotatE model\n",
    "print(\"Training RotatE...\")\n",
    "metrics_rt = train_rotate()\n",
    "print(\"RotatE metrics:\", metrics_rt)\n",
    "\n",
    "# Compare all metrics\n",
    "df_metrics = pd.DataFrame(\n",
    "    [metrics_ce, metrics_tr, metrics_rt],\n",
    "    index=['ComplEx','TransE','RotatE']\n",
    ")\n",
    "df_metrics.rename(columns={\n",
    "    'mrr':'MRR', \n",
    "    'hits1':'Hits@1', \n",
    "    'hits10':'Hits@10', \n",
    "    'hits50':'Hits@50', \n",
    "    'hits100':'Hits@100'\n",
    "}, inplace=True)\n"
   ]
  },
  {
   "cell_type": "markdown",
   "id": "04bfe8fb",
   "metadata": {},
   "source": [
    " ## GUI - KG Link-Prediction \n",
    "\n",
    "This code will launch the `GUI_kg_link_prediction.py` script, which prompts you for your triplets CSV and trained model paths, then opens the Gradio interface.\n"
   ]
  },
  {
   "cell_type": "code",
   "execution_count": null,
   "id": "e82eab8d",
   "metadata": {},
   "outputs": [],
   "source": [
    "# This will prompt you for:\n",
    "#  • Path to your triplets CSV (e.g., all_triplets.csv)\n",
    "#  • Paths to ComplEx.pkl, RotatE.pkl, TransE.pkl\n",
    "# and then launch the Gradio GUI.\n",
    "%run GUI_KG_link_prediction.py"
   ]
  }
 ],
 "metadata": {
  "kernelspec": {
   "display_name": "base",
   "language": "python",
   "name": "python3"
  },
  "language_info": {
   "codemirror_mode": {
    "name": "ipython",
    "version": 3
   },
   "file_extension": ".py",
   "mimetype": "text/x-python",
   "name": "python",
   "nbconvert_exporter": "python",
   "pygments_lexer": "ipython3",
   "version": "3.12.4"
  }
 },
 "nbformat": 4,
 "nbformat_minor": 5
}
